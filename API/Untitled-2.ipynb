{
 "cells": [
  {
   "cell_type": "code",
   "execution_count": 2,
   "metadata": {},
   "outputs": [
    {
     "name": "stdout",
     "output_type": "stream",
     "text": [
      "Dane dla stacji Gdańsk, ul. Powstańców Warszawskich:\n",
      "{'key': None, 'values': None}\n",
      "\n",
      "\n",
      "Dane dla stacji Gdańsk, ul. Wyzwolenia:\n",
      "{'key': 'Pb(PM10)', 'values': []}\n",
      "\n",
      "\n",
      "Dane dla stacji Gdańsk, ul. Leczkowa:\n",
      "{'key': 'Cd(PM10)', 'values': []}\n",
      "\n",
      "\n",
      "Dane dla stacji Gdańsk, Al. Grunwaldzka:\n",
      "{'key': 'O3', 'values': [{'date': '2025-03-02 19:00:00', 'value': 52.7}, {'date': '2025-03-02 18:00:00', 'value': 56.0}, {'date': '2025-03-02 17:00:00', 'value': 59.9}, {'date': '2025-03-02 16:00:00', 'value': 57.2}, {'date': '2025-03-02 15:00:00', 'value': 58.7}, {'date': '2025-03-02 14:00:00', 'value': 62.0}, {'date': '2025-03-02 13:00:00', 'value': 62.0}, {'date': '2025-03-02 12:00:00', 'value': 59.8}, {'date': '2025-03-02 11:00:00', 'value': 57.4}, {'date': '2025-03-02 10:00:00', 'value': 56.4}, {'date': '2025-03-02 09:00:00', 'value': 57.2}, {'date': '2025-03-02 08:00:00', 'value': 57.3}, {'date': '2025-03-02 07:00:00', 'value': 57.9}, {'date': '2025-03-02 06:00:00', 'value': 61.0}, {'date': '2025-03-02 05:00:00', 'value': 62.3}, {'date': '2025-03-02 04:00:00', 'value': 65.5}, {'date': '2025-03-02 03:00:00', 'value': 65.7}, {'date': '2025-03-02 02:00:00', 'value': 62.7}, {'date': '2025-03-02 01:00:00', 'value': 55.8}, {'date': '2025-03-02 00:00:00', 'value': 62.7}, {'date': '2025-03-01 23:00:00', 'value': 62.5}, {'date': '2025-03-01 22:00:00', 'value': 64.9}, {'date': '2025-03-01 21:00:00', 'value': 65.0}, {'date': '2025-03-01 20:00:00', 'value': 66.4}, {'date': '2025-03-01 19:00:00', 'value': 68.5}, {'date': '2025-03-01 18:00:00', 'value': 67.3}, {'date': '2025-03-01 17:00:00', 'value': 55.1}, {'date': '2025-03-01 16:00:00', 'value': None}, {'date': '2025-03-01 15:00:00', 'value': 34.7}, {'date': '2025-03-01 14:00:00', 'value': 35.9}, {'date': '2025-03-01 13:00:00', 'value': 35.6}, {'date': '2025-03-01 12:00:00', 'value': 32.3}, {'date': '2025-03-01 11:00:00', 'value': 33.6}, {'date': '2025-03-01 10:00:00', 'value': 32.7}, {'date': '2025-03-01 09:00:00', 'value': 30.5}, {'date': '2025-03-01 08:00:00', 'value': 30.1}, {'date': '2025-03-01 07:00:00', 'value': 27.4}, {'date': '2025-03-01 06:00:00', 'value': 29.4}, {'date': '2025-03-01 05:00:00', 'value': 26.8}, {'date': '2025-03-01 04:00:00', 'value': 21.3}, {'date': '2025-03-01 03:00:00', 'value': 12.4}, {'date': '2025-03-01 02:00:00', 'value': 10.7}, {'date': '2025-03-01 01:00:00', 'value': 10.2}, {'date': '2025-03-01 00:00:00', 'value': 9.9}, {'date': '2025-02-28 23:00:00', 'value': 11.7}, {'date': '2025-02-28 22:00:00', 'value': 14.5}, {'date': '2025-02-28 21:00:00', 'value': 9.7}, {'date': '2025-02-28 20:00:00', 'value': 7.7}, {'date': '2025-02-28 19:00:00', 'value': 3.3}, {'date': '2025-02-28 18:00:00', 'value': 1.8}, {'date': '2025-02-28 17:00:00', 'value': 1.9}, {'date': '2025-02-28 16:00:00', 'value': 2.2}, {'date': '2025-02-28 15:00:00', 'value': 2.8}, {'date': '2025-02-28 14:00:00', 'value': 6.3}, {'date': '2025-02-28 13:00:00', 'value': 9.0}, {'date': '2025-02-28 12:00:00', 'value': 7.3}, {'date': '2025-02-28 11:00:00', 'value': 7.4}, {'date': '2025-02-28 10:00:00', 'value': 7.2}, {'date': '2025-02-28 09:00:00', 'value': 4.9}, {'date': '2025-02-28 08:00:00', 'value': 2.1}, {'date': '2025-02-28 07:00:00', 'value': 1.0}, {'date': '2025-02-28 06:00:00', 'value': 0.9}, {'date': '2025-02-28 05:00:00', 'value': 1.2}, {'date': '2025-02-28 04:00:00', 'value': 1.0}, {'date': '2025-02-28 03:00:00', 'value': 1.3}, {'date': '2025-02-28 02:00:00', 'value': 1.2}, {'date': '2025-02-28 01:00:00', 'value': 2.8}, {'date': '2025-02-28 00:00:00', 'value': 2.5}]}\n",
      "\n",
      "\n",
      "Dane dla stacji Gdańsk, ul. Lawendowe Wzgórze:\n",
      "{'key': None, 'values': None}\n",
      "\n",
      "\n"
     ]
    }
   ],
   "source": [
    "import requests\n",
    "\n",
    "BASE_URL = 'https://api.gios.gov.pl/pjp-api/rest'\n",
    "\n",
    "# Funkcja do pobrania listy stacji pomiarowych\n",
    "def get_stations():\n",
    "    url = f\"{BASE_URL}/station/findAll\"\n",
    "    response = requests.get(url)\n",
    "    if response.status_code == 200:\n",
    "        return response.json()\n",
    "    else:\n",
    "        return []\n",
    "\n",
    "# Funkcja do pobrania danych pomiarowych dla konkretnej stacji\n",
    "def get_data(station_id):\n",
    "    url = f\"{BASE_URL}/data/getData/{station_id}\"\n",
    "    response = requests.get(url)\n",
    "    if response.status_code == 200:\n",
    "        return response.json()\n",
    "    else:\n",
    "        return {}\n",
    "\n",
    "# Pobranie stacji pomiarowych w Gdańsku\n",
    "stations = get_stations()\n",
    "gdansk_stations = [station for station in stations if station['city']['name'] == 'Gdańsk']\n",
    "\n",
    "# Pobranie danych pomiarowych dla każdej stacji w Gdańsku\n",
    "for station in gdansk_stations:\n",
    "    station_id = station['id']\n",
    "    data = get_data(station_id)\n",
    "    print(f\"Dane dla stacji {station['stationName']}:\")\n",
    "    print(data)\n",
    "    print(\"\\n\")\n"
   ]
  },
  {
   "cell_type": "code",
   "execution_count": null,
   "metadata": {},
   "outputs": [],
   "source": []
  }
 ],
 "metadata": {
  "kernelspec": {
   "display_name": "base",
   "language": "python",
   "name": "python3"
  },
  "language_info": {
   "codemirror_mode": {
    "name": "ipython",
    "version": 3
   },
   "file_extension": ".py",
   "mimetype": "text/x-python",
   "name": "python",
   "nbconvert_exporter": "python",
   "pygments_lexer": "ipython3",
   "version": "3.12.7"
  }
 },
 "nbformat": 4,
 "nbformat_minor": 2
}
