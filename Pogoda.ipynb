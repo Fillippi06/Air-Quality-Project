{
 "cells": [
  {
   "cell_type": "code",
   "execution_count": 1,
   "id": "d11add98-a257-4569-8de0-cf159e1d7cb1",
   "metadata": {},
   "outputs": [],
   "source": [
    "import re\n",
    "import pandas as pd\n",
    "import numpy as np\n",
    "import seaborn as sns\n",
    "import matplotlib.pyplot as plt"
   ]
  },
  {
   "cell_type": "code",
   "execution_count": 3,
   "id": "bf331752-1fb9-4258-b7f8-cd8bc617c53a",
   "metadata": {},
   "outputs": [],
   "source": [
    "df = pd.read_csv(r\"C:\\Users\\FILKON\\Desktop\\Potrzebne pliki\\Pogoda\\Meteo_2025-01\\Meteo_2025-01\\B00802A_2025_01.csv\", header = None, sep =';')"
   ]
  },
  {
   "cell_type": "code",
   "execution_count": 5,
   "id": "115545ca-973b-465f-8893-dedcccf5f51e",
   "metadata": {},
   "outputs": [],
   "source": [
    "kodsh_values = [254180090, 354180140, 354180150, 254180110, 354180155, 254189999]"
   ]
  },
  {
   "cell_type": "code",
   "execution_count": 7,
   "id": "cd8494f1-56b9-49d6-900d-c524410ec5c5",
   "metadata": {},
   "outputs": [],
   "source": [
    "def transform_wx_data(df, shcode):\n",
    "\t# Ustawia nazwy kolumn\n",
    "    df.columns = ['KodSH', 'ParametrSH', 'Data', 'Wartość pomiarowa']\n",
    "\n",
    "    # Zachowuje wiersze, które kończą się na ':00'\n",
    "    df = df[df['Data'].str.endswith(':00')]\n",
    "\n",
    "    # Filtruje wartości w kolumnie 'KodSH'\n",
    "    df = df[df['KodSH'].isin(kodsh_values)]\n",
    "\n",
    "    # Ustawia kolumnę 'Data' jako indeks\n",
    "    df = df.set_index('Data')\n",
    "\n",
    "    return df"
   ]
  },
  {
   "cell_type": "code",
   "execution_count": 9,
   "id": "3949ef51-90da-4460-9829-d1f552704bc4",
   "metadata": {},
   "outputs": [],
   "source": [
    "df = transform_wx_data(df, kodsh_values)"
   ]
  },
  {
   "cell_type": "code",
   "execution_count": 11,
   "id": "a6073e1e-c0fd-45a8-8515-4c52166d0f28",
   "metadata": {},
   "outputs": [
    {
     "data": {
      "text/html": [
       "<div>\n",
       "<style scoped>\n",
       "    .dataframe tbody tr th:only-of-type {\n",
       "        vertical-align: middle;\n",
       "    }\n",
       "\n",
       "    .dataframe tbody tr th {\n",
       "        vertical-align: top;\n",
       "    }\n",
       "\n",
       "    .dataframe thead th {\n",
       "        text-align: right;\n",
       "    }\n",
       "</style>\n",
       "<table border=\"1\" class=\"dataframe\">\n",
       "  <thead>\n",
       "    <tr style=\"text-align: right;\">\n",
       "      <th></th>\n",
       "      <th>KodSH</th>\n",
       "      <th>ParametrSH</th>\n",
       "      <th>Wartość pomiarowa</th>\n",
       "    </tr>\n",
       "    <tr>\n",
       "      <th>Data</th>\n",
       "      <th></th>\n",
       "      <th></th>\n",
       "      <th></th>\n",
       "    </tr>\n",
       "  </thead>\n",
       "  <tbody>\n",
       "    <tr>\n",
       "      <th>2025-01-01 00:00</th>\n",
       "      <td>254180090</td>\n",
       "      <td>B00802A</td>\n",
       "      <td>93.0</td>\n",
       "    </tr>\n",
       "    <tr>\n",
       "      <th>2025-01-01 01:00</th>\n",
       "      <td>254180090</td>\n",
       "      <td>B00802A</td>\n",
       "      <td>92.0</td>\n",
       "    </tr>\n",
       "    <tr>\n",
       "      <th>2025-01-01 02:00</th>\n",
       "      <td>254180090</td>\n",
       "      <td>B00802A</td>\n",
       "      <td>89.0</td>\n",
       "    </tr>\n",
       "    <tr>\n",
       "      <th>2025-01-01 03:00</th>\n",
       "      <td>254180090</td>\n",
       "      <td>B00802A</td>\n",
       "      <td>87.0</td>\n",
       "    </tr>\n",
       "    <tr>\n",
       "      <th>2025-01-01 04:00</th>\n",
       "      <td>254180090</td>\n",
       "      <td>B00802A</td>\n",
       "      <td>85.0</td>\n",
       "    </tr>\n",
       "    <tr>\n",
       "      <th>...</th>\n",
       "      <td>...</td>\n",
       "      <td>...</td>\n",
       "      <td>...</td>\n",
       "    </tr>\n",
       "    <tr>\n",
       "      <th>2025-01-31 19:00</th>\n",
       "      <td>354180155</td>\n",
       "      <td>B00802A</td>\n",
       "      <td>87.0</td>\n",
       "    </tr>\n",
       "    <tr>\n",
       "      <th>2025-01-31 20:00</th>\n",
       "      <td>354180155</td>\n",
       "      <td>B00802A</td>\n",
       "      <td>86.0</td>\n",
       "    </tr>\n",
       "    <tr>\n",
       "      <th>2025-01-31 21:00</th>\n",
       "      <td>354180155</td>\n",
       "      <td>B00802A</td>\n",
       "      <td>85.0</td>\n",
       "    </tr>\n",
       "    <tr>\n",
       "      <th>2025-01-31 22:00</th>\n",
       "      <td>354180155</td>\n",
       "      <td>B00802A</td>\n",
       "      <td>85.0</td>\n",
       "    </tr>\n",
       "    <tr>\n",
       "      <th>2025-01-31 23:00</th>\n",
       "      <td>354180155</td>\n",
       "      <td>B00802A</td>\n",
       "      <td>86.0</td>\n",
       "    </tr>\n",
       "  </tbody>\n",
       "</table>\n",
       "<p>1488 rows × 3 columns</p>\n",
       "</div>"
      ],
      "text/plain": [
       "                      KodSH ParametrSH  Wartość pomiarowa\n",
       "Data                                                     \n",
       "2025-01-01 00:00  254180090    B00802A               93.0\n",
       "2025-01-01 01:00  254180090    B00802A               92.0\n",
       "2025-01-01 02:00  254180090    B00802A               89.0\n",
       "2025-01-01 03:00  254180090    B00802A               87.0\n",
       "2025-01-01 04:00  254180090    B00802A               85.0\n",
       "...                     ...        ...                ...\n",
       "2025-01-31 19:00  354180155    B00802A               87.0\n",
       "2025-01-31 20:00  354180155    B00802A               86.0\n",
       "2025-01-31 21:00  354180155    B00802A               85.0\n",
       "2025-01-31 22:00  354180155    B00802A               85.0\n",
       "2025-01-31 23:00  354180155    B00802A               86.0\n",
       "\n",
       "[1488 rows x 3 columns]"
      ]
     },
     "execution_count": 11,
     "metadata": {},
     "output_type": "execute_result"
    }
   ],
   "source": [
    "df"
   ]
  },
  {
   "cell_type": "code",
   "execution_count": null,
   "id": "8f81e299-3f37-4d73-820b-9a295b0d8aaf",
   "metadata": {},
   "outputs": [],
   "source": []
  }
 ],
 "metadata": {
  "kernelspec": {
   "display_name": "Python 3 (ipykernel)",
   "language": "python",
   "name": "python3"
  },
  "language_info": {
   "codemirror_mode": {
    "name": "ipython",
    "version": 3
   },
   "file_extension": ".py",
   "mimetype": "text/x-python",
   "name": "python",
   "nbconvert_exporter": "python",
   "pygments_lexer": "ipython3",
   "version": "3.12.3"
  }
 },
 "nbformat": 4,
 "nbformat_minor": 5
}
